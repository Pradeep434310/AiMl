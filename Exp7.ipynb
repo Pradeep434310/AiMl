{
  "metadata": {
    "language_info": {
      "codemirror_mode": {
        "name": "python",
        "version": 3
      },
      "file_extension": ".py",
      "mimetype": "text/x-python",
      "name": "python",
      "nbconvert_exporter": "python",
      "pygments_lexer": "ipython3",
      "version": "3.8"
    },
    "kernelspec": {
      "name": "python",
      "display_name": "Python (Pyodide)",
      "language": "python"
    }
  },
  "nbformat_minor": 4,
  "nbformat": 4,
  "cells": [
    {
      "cell_type": "code",
      "source": "from sklearn import preprocessing\nscaler = preprocessing.StandardScaler()\nscaler.fit(X)\nxsa = scaler.transform(X)\nxs = pd.DataFrame(xsa, columns = X.columns)\nfrom sklearn.mixture import GaussianMixture\ngmm = GaussianMixture(n_components=3)\ngmm.fit(xs)\ngmm_y = gmm.predict(xs)\nplt.subplot(2, 2, 3)\nplt.scatter(X.Petal_Length, X.Petal_Width, c=colormap[gmm_y], s=40)\nplt.title('GMM Clustering')\nplt.xlabel('Petal Length')\nplt.ylabel('Petal Width')\n",
      "metadata": {
        "trusted": true
      },
      "execution_count": 2,
      "outputs": [
        {
          "ename": "<class 'NameError'>",
          "evalue": "name 'X' is not defined",
          "traceback": [
            "\u001b[0;31m---------------------------------------------------------------------------\u001b[0m",
            "\u001b[0;31mNameError\u001b[0m                                 Traceback (most recent call last)",
            "Cell \u001b[0;32mIn[3], line 3\u001b[0m\n\u001b[1;32m      1\u001b[0m \u001b[38;5;28;01mfrom\u001b[39;00m \u001b[38;5;21;01msklearn\u001b[39;00m \u001b[38;5;28;01mimport\u001b[39;00m preprocessing\n\u001b[1;32m      2\u001b[0m scaler \u001b[38;5;241m=\u001b[39m preprocessing\u001b[38;5;241m.\u001b[39mStandardScaler()\n\u001b[0;32m----> 3\u001b[0m scaler\u001b[38;5;241m.\u001b[39mfit(\u001b[43mX\u001b[49m)\n\u001b[1;32m      4\u001b[0m xsa \u001b[38;5;241m=\u001b[39m scaler\u001b[38;5;241m.\u001b[39mtransform(X)\n\u001b[1;32m      5\u001b[0m xs \u001b[38;5;241m=\u001b[39m pd\u001b[38;5;241m.\u001b[39mDataFrame(xsa, columns \u001b[38;5;241m=\u001b[39m X\u001b[38;5;241m.\u001b[39mcolumns)\n",
            "\u001b[0;31mNameError\u001b[0m: name 'X' is not defined"
          ],
          "output_type": "error"
        }
      ]
    },
    {
      "cell_type": "code",
      "source": "import matplotlib.pyplot as plt\nfrom sklearn import datasets\nfrom sklearn.cluster import KMeans\nimport pandas as pd\nimport numpy as np\n%matplotlib inline\n\niris = datasets.load_iris()\nX = pd.DataFrame(iris.data)\nX.columns = ['Sepal_Length','Sepal_Width','Petal_Length','Petal_Width']\ny = pd.DataFrame(iris.target)\ny.columns = ['Targets']\nmodel = KMeans(n_clusters=3)\nmodel.fit(X)\nsamples belongs to\n# # Visualise the clustering results\nplt.figure(figsize=(14,14))\ncolormap = np.array(['red', 'lime', 'black'])\n",
      "metadata": {},
      "execution_count": null,
      "outputs": []
    }
  ]
}