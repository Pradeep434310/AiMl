{
  "metadata": {
    "language_info": {
      "codemirror_mode": {
        "name": "python",
        "version": 3
      },
      "file_extension": ".py",
      "mimetype": "text/x-python",
      "name": "python",
      "nbconvert_exporter": "python",
      "pygments_lexer": "ipython3",
      "version": "3.8"
    },
    "kernelspec": {
      "name": "python",
      "display_name": "Python (Pyodide)",
      "language": "python"
    }
  },
  "nbformat_minor": 4,
  "nbformat": 4,
  "cells": [
    {
      "cell_type": "code",
      "source": "",
      "metadata": {
        "trusted": true
      },
      "execution_count": null,
      "outputs": [
        {
          "name": "stdout",
          "text": "\n the total number of Training Data : (514, 1)\n\n the total number of Test Data : (254, 1)\n\n Confusion matrix\n[[134  28]\n [ 40  52]]\n\n Accuracy of the classifier is 0.7322834645669292\n\n The value of Precision 0.65\n\n The value of Recall 0.5652173913043478\nPredicted Value for individual Test Data: [1]\n",
          "output_type": "stream"
        }
      ]
    }
  ]
}