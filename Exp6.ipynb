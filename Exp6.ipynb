{
  "metadata": {
    "language_info": {
      "codemirror_mode": {
        "name": "python",
        "version": 3
      },
      "file_extension": ".py",
      "mimetype": "text/x-python",
      "name": "python",
      "nbconvert_exporter": "python",
      "pygments_lexer": "ipython3",
      "version": "3.8"
    },
    "kernelspec": {
      "name": "python",
      "display_name": "Python (Pyodide)",
      "language": "python"
    }
  },
  "nbformat_minor": 4,
  "nbformat": 4,
  "cells": [
    {
      "cell_type": "code",
      "source": "import pandas as pd\nfrom sklearn.model_selection import train_test_split\nfrom sklearn.naive_bayes import GaussianNB\nfrom sklearn import metrics\n\ndf = pd.read_csv(\"pima_indian.csv\")\nfeature_col_names = ['num_preg', 'glucose_conc', 'diastolic_bp', 'thickness', 'insulin', 'bmi', 'diab_pred', 'age']\npredicted_class_names = ['diabetes']\n\nX = df[feature_col_names].values \ny = df[predicted_class_names].values \n\nxtrain,xtest,ytrain,ytest=train_test_split(X,y,test_size=0.33)\n\nprint ('\\n the total number of Training Data :',ytrain.shape)\nprint ('\\n the total number of Test Data :',ytest.shape)\n\nclf = GaussianNB().fit(xtrain,ytrain.ravel())\npredicted = clf.predict(xtest)\npredictTestData= clf.predict([[6,148,72,35,0,33.6,0.627,50]])\n\nprint('\\n Confusion matrix')\nprint(metrics.confusion_matrix(ytest,predicted))\n\nprint('\\n Accuracy of the classifier is',metrics.accuracy_score(ytest,predicted))\n\nprint('\\n The value of Precision', metrics.precision_score(ytest,predicted))\n\nprint('\\n The value of Recall', metrics.recall_score(ytest,predicted))\n\nprint(\"Predicted Value for individual Test Data:\", predictTestData)",
      "metadata": {
        "trusted": true
      },
      "execution_count": 6,
      "outputs": [
        {
          "name": "stdout",
          "text": "\n the total number of Training Data : (514, 1)\n\n the total number of Test Data : (254, 1)\n\n Confusion matrix\n[[131  24]\n [ 43  56]]\n\n Accuracy of the classifier is 0.7362204724409449\n\n The value of Precision 0.7\n\n The value of Recall 0.5656565656565656\nPredicted Value for individual Test Data: [1]\n",
          "output_type": "stream"
        }
      ]
    },
    {
      "cell_type": "code",
      "source": "",
      "metadata": {},
      "execution_count": null,
      "outputs": []
    }
  ]
}