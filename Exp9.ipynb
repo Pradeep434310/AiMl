{
  "metadata": {
    "language_info": {
      "codemirror_mode": {
        "name": "python",
        "version": 3
      },
      "file_extension": ".py",
      "mimetype": "text/x-python",
      "name": "python",
      "nbconvert_exporter": "python",
      "pygments_lexer": "ipython3",
      "version": "3.8"
    },
    "kernelspec": {
      "name": "python",
      "display_name": "Python (Pyodide)",
      "language": "python"
    }
  },
  "nbformat_minor": 4,
  "nbformat": 4,
  "cells": [
    {
      "cell_type": "code",
      "source": "import matplotlib.pyplot as plt\nimport pandas as pd\nimport numpy as np\n\ndef kernel(point,xmat, k):\n    m,n = np.shape(xmat)\n    weights = np.mat(np.eye((m)))\n    for j in range(m):\n        diff = point - X[j]\n        weights[j,j] = np.exp(diff*diff.T/(-2.0*k**2))\n    return weights\n\ndef localWeight(point,xmat,ymat,k):\n    wei = kernel(point,xmat,k)\n    W = (X.T*(wei*X)).I*(X.T*(wei*ymat.T))\n    return W\n\ndef localWeightRegression(xmat,ymat,k):\n    m,n = np.shape(xmat)\n    ypred = np.zeros(m)\n    for i in range(m):\n        ypred[i] = xmat[i]*localWeight(xmat[i],xmat,ymat,k)\n    return ypred\n\ndef graphPlot(X,ypred):\n    sortindex = X[:,1].argsort(0)\n    xsort = X[sortindex][:,0]\n    fig = plt.figure()\n    ax = fig.add_subplot(1,1,1)\n    ax.scatter(bill,tip, color='green')\n    ax.plot(xsort[:,1],ypred[sortindex], color = 'red', linewidth=5)\n    plt.xlabel('Total bill')\n    plt.ylabel('Tip')\n    plt.show();\n",
      "metadata": {},
      "execution_count": null,
      "outputs": []
    }
  ]
}