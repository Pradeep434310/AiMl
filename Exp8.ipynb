{
  "metadata": {
    "language_info": {
      "codemirror_mode": {
        "name": "python",
        "version": 3
      },
      "file_extension": ".py",
      "mimetype": "text/x-python",
      "name": "python",
      "nbconvert_exporter": "python",
      "pygments_lexer": "ipython3",
      "version": "3.8"
    },
    "kernelspec": {
      "name": "python",
      "display_name": "Python (Pyodide)",
      "language": "python"
    }
  },
  "nbformat_minor": 4,
  "nbformat": 4,
  "cells": [
    {
      "cell_type": "code",
      "source": "from sklearn.model_selection import train_test_split\nfrom sklearn.neighbors import KNeighborsClassifier\nfrom sklearn import datasets\niris=datasets.load_iris()\nprint(\"Iris Data set loaded...\")\nx_train, x_test, y_train, y_test = train_test_split(iris.data,iris.target,test_size=0.1)\nprint(\"Dataset is split into training and testing...\")\nprint(\"Size of trainng data and its label\",x_train.shape,y_train.shape)\nprint(\"Size of testing data and its label\",x_test.shape, y_test.shape)\n      \nfor i in range(len(iris.target_names)):\n      print(\"Label\", i , \"-\",str(iris.target_names[i]))\n      \nclassifier = KNeighborsClassifier(n_neighbors=12)\nclassifier.fit(x_train, y_train)\ny_pred=classifier.predict(x_test)\nprint(\"Results of Classification using K-nn with K=12 \")\nfor r in range(0,len(x_test)):\n      print(\" Sample:\", str(x_test[r]), \" Actual-label:\", str(y_test[r]), \" Predicted-label:\",str(y_pred[r]))\nprint(\"Classification Accuracy :\" ,classifier.score(x_test,y_test));",
      "metadata": {
        "trusted": true
      },
      "execution_count": 4,
      "outputs": [
        {
          "name": "stdout",
          "text": "Iris Data set loaded...\nDataset is split into training and testing...\nSize of trainng data and its label (135, 4) (135,)\nSize of testing data and its label (15, 4) (15,)\nLabel 0 - setosa\nLabel 1 - versicolor\nLabel 2 - virginica\nResults of Classification using K-nn with K=12 \n Sample: [7.4 2.8 6.1 1.9]  Actual-label: 2  Predicted-label: 2\n Sample: [5.8 2.7 5.1 1.9]  Actual-label: 2  Predicted-label: 2\n Sample: [6.5 3.  5.2 2. ]  Actual-label: 2  Predicted-label: 2\n Sample: [5.2 4.1 1.5 0.1]  Actual-label: 0  Predicted-label: 0\n Sample: [6.3 2.5 4.9 1.5]  Actual-label: 1  Predicted-label: 1\n Sample: [4.4 3.2 1.3 0.2]  Actual-label: 0  Predicted-label: 0\n Sample: [4.6 3.1 1.5 0.2]  Actual-label: 0  Predicted-label: 0\n Sample: [5.7 2.5 5.  2. ]  Actual-label: 2  Predicted-label: 2\n Sample: [6.7 3.3 5.7 2.5]  Actual-label: 2  Predicted-label: 2\n Sample: [4.9 2.4 3.3 1. ]  Actual-label: 1  Predicted-label: 1\n Sample: [5.  3.5 1.3 0.3]  Actual-label: 0  Predicted-label: 0\n Sample: [5.  3.6 1.4 0.2]  Actual-label: 0  Predicted-label: 0\n Sample: [7.7 3.8 6.7 2.2]  Actual-label: 2  Predicted-label: 2\n Sample: [6.4 3.1 5.5 1.8]  Actual-label: 2  Predicted-label: 2\n Sample: [4.9 2.5 4.5 1.7]  Actual-label: 2  Predicted-label: 1\nClassification Accuracy : 0.9333333333333333\n",
          "output_type": "stream"
        }
      ]
    },
    {
      "cell_type": "code",
      "source": "",
      "metadata": {},
      "execution_count": null,
      "outputs": []
    }
  ]
}