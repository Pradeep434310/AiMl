{
  "metadata": {
    "language_info": {
      "codemirror_mode": {
        "name": "python",
        "version": 3
      },
      "file_extension": ".py",
      "mimetype": "text/x-python",
      "name": "python",
      "nbconvert_exporter": "python",
      "pygments_lexer": "ipython3",
      "version": "3.8"
    },
    "kernelspec": {
      "name": "python",
      "display_name": "Python (Pyodide)",
      "language": "python"
    }
  },
  "nbformat_minor": 4,
  "nbformat": 4,
  "cells": [
    {
      "cell_type": "code",
      "source": "import numpy as np\nX = np.array(([2, 9], [1, 5], [3, 6]), dtype=float)\ny = np.array(([92], [86], [89]), dtype=float)\nX = X/np.amax(X,axis=0) # maximum of X array longitudinally\ny = y/100\n\n\ndef sigmoid (x):\n    return 1/(1 + np.exp(-x))\ndef derivatives_sigmoid(x):\n    return x * (1 - x)\n\nepoch=5000\nlr=0.1\ninputlayer_neurons = 2\nhiddenlayer_neurons = 3\noutput_neurons = 1\nwh=np.random.uniform(size=(inputlayer_neurons,hiddenlayer_neurons))\nbh=np.random.uniform(size=(1,hiddenlayer_neurons))\nwout=np.random.uniform(size=(hiddenlayer_neurons,output_neurons))\nbout=np.random.uniform(size=(1,output_neurons))\n\nfor i in range(epoch):\n    hinp1=np.dot(X,wh)\n    hinp=hinp1 + bh\n    hlayer_act = sigmoid(hinp)\n    outinp1=np.dot(hlayer_act,wout)\n    outinp= outinp1+ bout\n    output = sigmoid(outinp)\n    EO = y-output\n    outgrad = derivatives_sigmoid(output)\n    d_output = EO* outgrad\n    EH = d_output.dot(wout.T)\n    \n    hiddengrad = derivatives_sigmoid(hlayer_act)\n    d_hiddenlayer = EH * hiddengrad\n    \n    wout += hlayer_act.T.dot(d_output) *lr\n    wh += X.T.dot(d_hiddenlayer) *lr\n    \nprint(\"Input: \\n\" + str(X))\nprint(\"Actual Output: \\n\" + str(y))\nprint(\"Predicted Output: \\n\" ,output)",
      "metadata": {
        "trusted": true
      },
      "execution_count": 1,
      "outputs": [
        {
          "name": "stdout",
          "text": "Input: \n[[0.66666667 1.        ]\n [0.33333333 0.55555556]\n [1.         0.66666667]]\nActual Output: \n[[0.92]\n [0.86]\n [0.89]]\nPredicted Output: \n [[0.89573905]\n [0.88100061]\n [0.89278741]]\n",
          "output_type": "stream"
        }
      ]
    },
    {
      "cell_type": "code",
      "source": "",
      "metadata": {},
      "execution_count": null,
      "outputs": []
    }
  ]
}