{
  "metadata": {
    "language_info": {
      "codemirror_mode": {
        "name": "python",
        "version": 3
      },
      "file_extension": ".py",
      "mimetype": "text/x-python",
      "name": "python",
      "nbconvert_exporter": "python",
      "pygments_lexer": "ipython3",
      "version": "3.8"
    },
    "kernelspec": {
      "name": "python",
      "display_name": "Python (Pyodide)",
      "language": "python"
    }
  },
  "nbformat_minor": 4,
  "nbformat": 4,
  "cells": [
    {
      "cell_type": "code",
      "source": "import numpy as np\nimport pandas as pd\ndata = pd.DataFrame(data=pd.read_csv('1finds.csv'))\nconcepts = np.array(data.iloc[:,0:-1])\ntarget = np.array(data.iloc[:,-1])\ndef learn(concepts, target):\n    specific_h = concepts[0].copy()\n    general_h = [[\"?\" for i in range(len(specific_h))] for i in range(len(specific_h))]\n    for i, h in enumerate(concepts):\n        if target[i] == \"Yes\":\n            for x in range(len(specific_h)):\n                if h[x] != specific_h[x]:\n                    specific_h[x] = '?'\n                    general_h[x][x] = '?'\n        if target[i] == \"No\":\n            for x in range(len(specific_h)):\n                if h[x] != specific_h[x]:\n                    general_h[x][x] = specific_h[x]\n                else:\n                    general_h[x][x] = '?'\n    indices = [i for i,val in enumerate(general_h) if val == ['?', '?', '?', '?', '?', '?']]\n    for i in indices:\n        general_h.remove(['?', '?', '?', '?', '?', '?'])\n    return specific_h, general_h\ns_final, g_final = learn(concepts, target)\nprint(\"Final S:\", s_final, sep=\"\\n\")\nprint(\"Final G:\", g_final, sep=\"\\n\")\n",
      "metadata": {
        "trusted": true
      },
      "execution_count": 2,
      "outputs": [
        {
          "name": "stdout",
          "text": "Final S:\n['Sunny' 'Warm' '?' 'Strong' '?' '?']\nFinal G:\n[['Sunny', '?', '?', '?', '?', '?'], ['?', 'Warm', '?', '?', '?', '?']]\n",
          "output_type": "stream"
        }
      ]
    },
    {
      "cell_type": "code",
      "source": "",
      "metadata": {},
      "execution_count": null,
      "outputs": []
    }
  ]
}